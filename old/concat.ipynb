{
 "cells": [
  {
   "cell_type": "code",
   "execution_count": 22,
   "metadata": {},
   "outputs": [],
   "source": [
    "import pandas as pd\n",
    "import glob\n",
    "import json\n",
    "from datetime import datetime"
   ]
  },
  {
   "cell_type": "code",
   "execution_count": 27,
   "metadata": {},
   "outputs": [],
   "source": [
    "now = datetime.now().strftime(\"%d_%m_%Y\")"
   ]
  },
  {
   "cell_type": "code",
   "execution_count": 5,
   "metadata": {},
   "outputs": [
    {
     "data": {
      "text/plain": [
       "list"
      ]
     },
     "execution_count": 5,
     "metadata": {},
     "output_type": "execute_result"
    }
   ],
   "source": [
    "#index all json files in the jsondump directory\n",
    "json_files = glob.glob('jsondump/*.json')"
   ]
  },
  {
   "cell_type": "code",
   "execution_count": 19,
   "metadata": {},
   "outputs": [
    {
     "data": {
      "text/html": [
       "<div>\n",
       "<style scoped>\n",
       "    .dataframe tbody tr th:only-of-type {\n",
       "        vertical-align: middle;\n",
       "    }\n",
       "\n",
       "    .dataframe tbody tr th {\n",
       "        vertical-align: top;\n",
       "    }\n",
       "\n",
       "    .dataframe thead th {\n",
       "        text-align: right;\n",
       "    }\n",
       "</style>\n",
       "<table border=\"1\" class=\"dataframe\">\n",
       "  <thead>\n",
       "    <tr style=\"text-align: right;\">\n",
       "      <th></th>\n",
       "      <th>zeitpunkt</th>\n",
       "      <th>station</th>\n",
       "      <th>komponente</th>\n",
       "      <th>mittelwert</th>\n",
       "      <th>einheit</th>\n",
       "      <th>messwert</th>\n",
       "    </tr>\n",
       "  </thead>\n",
       "  <tbody>\n",
       "    <tr>\n",
       "      <th>0</th>\n",
       "      <td>2023-11-18 16:30:00</td>\n",
       "      <td>S425</td>\n",
       "      <td>BOE</td>\n",
       "      <td>HMW</td>\n",
       "      <td>m/s</td>\n",
       "      <td>1,6604</td>\n",
       "    </tr>\n",
       "    <tr>\n",
       "      <th>1</th>\n",
       "      <td>2023-11-18 17:00:00</td>\n",
       "      <td>S425</td>\n",
       "      <td>BOE</td>\n",
       "      <td>HMW</td>\n",
       "      <td>m/s</td>\n",
       "      <td>0,87389</td>\n",
       "    </tr>\n",
       "    <tr>\n",
       "      <th>2</th>\n",
       "      <td>2023-11-18 17:30:00</td>\n",
       "      <td>S425</td>\n",
       "      <td>BOE</td>\n",
       "      <td>HMW</td>\n",
       "      <td>m/s</td>\n",
       "      <td>1,7478</td>\n",
       "    </tr>\n",
       "    <tr>\n",
       "      <th>3</th>\n",
       "      <td>2023-11-18 18:00:00</td>\n",
       "      <td>S425</td>\n",
       "      <td>BOE</td>\n",
       "      <td>HMW</td>\n",
       "      <td>m/s</td>\n",
       "      <td>1,9226</td>\n",
       "    </tr>\n",
       "    <tr>\n",
       "      <th>4</th>\n",
       "      <td>2023-11-18 18:30:00</td>\n",
       "      <td>S425</td>\n",
       "      <td>BOE</td>\n",
       "      <td>HMW</td>\n",
       "      <td>m/s</td>\n",
       "      <td>1,6604</td>\n",
       "    </tr>\n",
       "  </tbody>\n",
       "</table>\n",
       "</div>"
      ],
      "text/plain": [
       "            zeitpunkt station komponente mittelwert einheit messwert\n",
       "0 2023-11-18 16:30:00    S425        BOE        HMW     m/s   1,6604\n",
       "1 2023-11-18 17:00:00    S425        BOE        HMW     m/s  0,87389\n",
       "2 2023-11-18 17:30:00    S425        BOE        HMW     m/s   1,7478\n",
       "3 2023-11-18 18:00:00    S425        BOE        HMW     m/s   1,9226\n",
       "4 2023-11-18 18:30:00    S425        BOE        HMW     m/s   1,6604"
      ]
     },
     "execution_count": 19,
     "metadata": {},
     "output_type": "execute_result"
    }
   ],
   "source": [
    "# json_data to pd.dataframe\n",
    "\n",
    "li_df = []\n",
    "\n",
    "for i in range(len(json_files)):\n",
    "    open_json = open(json_files[i], 'r').read()\n",
    "    open_json = json.loads(open_json)\n",
    "    li_df.append(pd.DataFrame(open_json.get('messwerte')))\n",
    "\n",
    "df = pd.concat(li_df, axis=0, ignore_index=True)\n",
    "df['zeitpunkt'] = pd.to_datetime(df['zeitpunkt'], unit='ms')\n",
    "\n",
    "df.head()"
   ]
  },
  {
   "cell_type": "code",
   "execution_count": 20,
   "metadata": {},
   "outputs": [
    {
     "data": {
      "text/plain": [
       "(386336, 6)"
      ]
     },
     "execution_count": 20,
     "metadata": {},
     "output_type": "execute_result"
    }
   ],
   "source": [
    "df.shape"
   ]
  },
  {
   "cell_type": "code",
   "execution_count": 28,
   "metadata": {},
   "outputs": [],
   "source": [
    "df.to_json(\"jsondump/\"+now+\"_all.json\", orient=\"records\")"
   ]
  }
 ],
 "metadata": {
  "kernelspec": {
   "display_name": "base",
   "language": "python",
   "name": "python3"
  },
  "language_info": {
   "codemirror_mode": {
    "name": "ipython",
    "version": 3
   },
   "file_extension": ".py",
   "mimetype": "text/x-python",
   "name": "python",
   "nbconvert_exporter": "python",
   "pygments_lexer": "ipython3",
   "version": "3.11.5"
  }
 },
 "nbformat": 4,
 "nbformat_minor": 2
}
