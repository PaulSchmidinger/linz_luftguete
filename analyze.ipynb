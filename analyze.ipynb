{
 "cells": [
  {
   "cell_type": "code",
   "execution_count": null,
   "metadata": {},
   "outputs": [],
   "source": [
    "import pandas as pd"
   ]
  },
  {
   "cell_type": "code",
   "execution_count": null,
   "metadata": {},
   "outputs": [],
   "source": [
    "# json_data to pd.dataframe\n",
    "\n",
    "li_df = []\n",
    "\n",
    "for i in range(len(json_data)):\n",
    "    li_df.append(pd.DataFrame(json_data[i].get('messwerte')))\n",
    "\n",
    "df = pd.concat(li_df, axis=0, ignore_index=True)\n",
    "df['zeitpunkt'] = pd.to_datetime(df['zeitpunkt'], unit='ms')\n",
    "\n",
    "df.head()"
   ]
  },
  {
   "cell_type": "code",
   "execution_count": null,
   "metadata": {},
   "outputs": [],
   "source": [
    "df.to_json(\"jsondump/\"+now+\"_all.json\", orient=\"records\")"
   ]
  }
 ],
 "metadata": {
  "kernelspec": {
   "display_name": "base",
   "language": "python",
   "name": "python3"
  },
  "language_info": {
   "name": "python",
   "version": "3.11.5"
  }
 },
 "nbformat": 4,
 "nbformat_minor": 2
}
